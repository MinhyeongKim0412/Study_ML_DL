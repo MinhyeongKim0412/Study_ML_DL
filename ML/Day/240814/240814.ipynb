{
 "cells": [
  {
   "cell_type": "code",
   "execution_count": 1,
   "id": "fdc0a4fd-04c4-4034-9883-46b245453cce",
   "metadata": {
    "tags": []
   },
   "outputs": [],
   "source": [
    "import numpy as np"
   ]
  },
  {
   "cell_type": "code",
   "execution_count": 6,
   "id": "c1f4d2d4-9e7e-463c-892c-2d71e62f61a3",
   "metadata": {
    "tags": []
   },
   "outputs": [],
   "source": [
    "x1 = np.random.choice([1,0],10,p=[0.2,0.8])\n",
    "x2 = np.random.choice([1,0],10)"
   ]
  },
  {
   "cell_type": "code",
   "execution_count": 9,
   "id": "def7ffc4-fd17-49d8-8c07-118bf9f128aa",
   "metadata": {
    "tags": []
   },
   "outputs": [],
   "source": [
    "x1 = np.where(x1==0,\"cat\",\"dog\")"
   ]
  },
  {
   "cell_type": "code",
   "execution_count": 10,
   "id": "ac324bea-71e6-4a66-9dc8-fcd392657141",
   "metadata": {
    "tags": []
   },
   "outputs": [],
   "source": [
    "x2 = np.where(x2==0,\"cat\",\"dog\")"
   ]
  },
  {
   "cell_type": "markdown",
   "id": "4f0fdd3e-eb38-4dee-824f-1cc81a33b12c",
   "metadata": {
    "tags": []
   },
   "source": [
    "$$ \\sum_{k=1}^{n}p_{k}log(p_{k})$$"
   ]
  },
  {
   "cell_type": "code",
   "execution_count": 15,
   "id": "2b9c04de-4971-4f12-87c0-500d24b6dc1f",
   "metadata": {
    "tags": []
   },
   "outputs": [],
   "source": [
    "entropy_x1 = -((9/10)*np.log2(9/10)+(1/10)*np.log2(1/10))"
   ]
  },
  {
   "cell_type": "code",
   "execution_count": 21,
   "id": "240a142e-a040-4e6c-86f9-f45894a2305f",
   "metadata": {
    "tags": []
   },
   "outputs": [],
   "source": [
    "entropy_x2 = -((6/10)*np.log2(6/10)+(4/10)*np.log2(4/10))"
   ]
  },
  {
   "cell_type": "code",
   "execution_count": 22,
   "id": "06a5a22c-b4d6-4e82-b1a6-eba8c5782ffc",
   "metadata": {
    "tags": []
   },
   "outputs": [
    {
     "name": "stdout",
     "output_type": "stream",
     "text": [
      "0.4689955935892812\n",
      "0.9709505944546686\n"
     ]
    }
   ],
   "source": [
    "## total entropy  - earn entropy = information gain\n",
    "print(entropy_x1)\n",
    "print(entropy_x2)"
   ]
  },
  {
   "cell_type": "code",
   "execution_count": 23,
   "id": "fa285980-1509-4b58-be32-e21e6a950dca",
   "metadata": {
    "tags": []
   },
   "outputs": [],
   "source": [
    "import pandas as pd"
   ]
  },
  {
   "cell_type": "code",
   "execution_count": 28,
   "id": "7f2e1378-70e2-4e21-93e6-d27d19b0703e",
   "metadata": {
    "tags": []
   },
   "outputs": [],
   "source": [
    "data = pd.read_clipboard(header=None)"
   ]
  },
  {
   "cell_type": "code",
   "execution_count": 30,
   "id": "48a6b4d8-a4b8-49f0-9817-1b1ab858a736",
   "metadata": {
    "tags": []
   },
   "outputs": [],
   "source": [
    "data = data.loc[:,[0,2,4,5,6]]"
   ]
  },
  {
   "cell_type": "code",
   "execution_count": 32,
   "id": "eb4ee160-4eaf-400b-973e-e5e76aac0840",
   "metadata": {
    "tags": []
   },
   "outputs": [],
   "source": [
    "data.columns = ['outlook','temper','humidity','windy','play']"
   ]
  },
  {
   "cell_type": "code",
   "execution_count": 34,
   "id": "5a35e145-6800-43d4-aab8-6a6126b76ada",
   "metadata": {
    "tags": []
   },
   "outputs": [],
   "source": [
    "data.to_csv('player.csv',index=None)"
   ]
  },
  {
   "cell_type": "code",
   "execution_count": 36,
   "id": "4049e8eb-93c4-49ff-8991-5b5be726883f",
   "metadata": {
    "tags": []
   },
   "outputs": [],
   "source": [
    "player = pd.read_csv(\"player.csv\")"
   ]
  },
  {
   "cell_type": "code",
   "execution_count": 38,
   "id": "dc9ccf87-0126-45a4-85cb-5367230780a9",
   "metadata": {
    "tags": []
   },
   "outputs": [
    {
     "data": {
      "text/plain": [
       "array(['overcast', 'rainy', 'sunny'], dtype=object)"
      ]
     },
     "execution_count": 38,
     "metadata": {},
     "output_type": "execute_result"
    }
   ],
   "source": [
    "player.outlook.unique()"
   ]
  },
  {
   "cell_type": "code",
   "execution_count": 58,
   "id": "c4d71d6a-5e0c-4620-96d8-d826f0e48343",
   "metadata": {
    "tags": []
   },
   "outputs": [
    {
     "data": {
      "text/plain": [
       "0.2929855623675187"
      ]
     },
     "execution_count": 58,
     "metadata": {},
     "output_type": "execute_result"
    }
   ],
   "source": [
    "def total_entropy(x):\n",
    "    p = x.value_counts()/x.value_counts().sum()\n",
    "    return -np.sum(p*np.log2(p))\n",
    "\n",
    "total_entropy(player.play)-\\\n",
    "(total_entropy(player.loc[player.outlook == 'overcast','play']) +\\\n",
    "total_entropy(player.loc[player.outlook == 'rainy','play']) +\\\n",
    "total_entropy(player.loc[player.outlook == 'sunny','play']) )/3"
   ]
  },
  {
   "cell_type": "code",
   "execution_count": 61,
   "id": "d3793400-ba10-41de-a18e-00b2521ab2bc",
   "metadata": {
    "tags": []
   },
   "outputs": [
    {
     "data": {
      "text/plain": [
       "0.03042797249942364"
      ]
     },
     "execution_count": 61,
     "metadata": {},
     "output_type": "execute_result"
    }
   ],
   "source": [
    "total_entropy(player.play)-\\\n",
    "(total_entropy(player.loc[player.temper == 'hot','play']) +\\\n",
    "total_entropy(player.loc[player.temper == 'cool','play']) +\\\n",
    "total_entropy(player.loc[player.temper == 'mild','play']) )/3"
   ]
  },
  {
   "cell_type": "code",
   "execution_count": 63,
   "id": "82bd1db1-ec81-4c77-bda0-928c42f7c98d",
   "metadata": {
    "tags": []
   },
   "outputs": [
    {
     "data": {
      "text/plain": [
       "0.15183550136234159"
      ]
     },
     "execution_count": 63,
     "metadata": {},
     "output_type": "execute_result"
    }
   ],
   "source": [
    "total_entropy(player.play)-\\\n",
    "(total_entropy(player.loc[player.humidity == 'high','play']) +\\\n",
    "total_entropy(player.loc[player.humidity == 'normal','play']) )/2"
   ]
  },
  {
   "cell_type": "code",
   "execution_count": 66,
   "id": "8c80a577-dc11-4079-9875-6af44f16020c",
   "metadata": {
    "tags": []
   },
   "outputs": [
    {
     "data": {
      "text/plain": [
       "0.03464689644106467"
      ]
     },
     "execution_count": 66,
     "metadata": {},
     "output_type": "execute_result"
    }
   ],
   "source": [
    "total_entropy(player.play)-\\\n",
    "(total_entropy(player.loc[player.windy == True,'play']) +\\\n",
    "total_entropy(player.loc[player.windy == False,'play']) )/2"
   ]
  },
  {
   "cell_type": "code",
   "execution_count": 59,
   "id": "4ab089f4-f4c7-4835-a18f-9ff698ed8e49",
   "metadata": {
    "tags": []
   },
   "outputs": [
    {
     "data": {
      "text/plain": [
       "Index(['outlook', 'temper', 'humidity', 'windy', 'play'], dtype='object')"
      ]
     },
     "execution_count": 59,
     "metadata": {},
     "output_type": "execute_result"
    }
   ],
   "source": [
    "player.columns"
   ]
  },
  {
   "cell_type": "code",
   "execution_count": 65,
   "id": "55a28070-8bfd-41f0-828d-8944df228452",
   "metadata": {
    "tags": []
   },
   "outputs": [
    {
     "data": {
      "text/plain": [
       "dtype('bool')"
      ]
     },
     "execution_count": 65,
     "metadata": {},
     "output_type": "execute_result"
    }
   ],
   "source": [
    "player.windy.dtype"
   ]
  },
  {
   "cell_type": "code",
   "execution_count": 69,
   "id": "b67c4091-bd71-4905-9580-87159898f1fb",
   "metadata": {
    "tags": []
   },
   "outputs": [],
   "source": [
    "new_player = player.loc[player.outlook != 'overcast',:]"
   ]
  },
  {
   "cell_type": "code",
   "execution_count": 70,
   "id": "af132b8b-cc98-4bdf-9f54-c370cce1321b",
   "metadata": {
    "tags": []
   },
   "outputs": [
    {
     "data": {
      "text/html": [
       "<div>\n",
       "<style scoped>\n",
       "    .dataframe tbody tr th:only-of-type {\n",
       "        vertical-align: middle;\n",
       "    }\n",
       "\n",
       "    .dataframe tbody tr th {\n",
       "        vertical-align: top;\n",
       "    }\n",
       "\n",
       "    .dataframe thead th {\n",
       "        text-align: right;\n",
       "    }\n",
       "</style>\n",
       "<table border=\"1\" class=\"dataframe\">\n",
       "  <thead>\n",
       "    <tr style=\"text-align: right;\">\n",
       "      <th></th>\n",
       "      <th>outlook</th>\n",
       "      <th>temper</th>\n",
       "      <th>humidity</th>\n",
       "      <th>windy</th>\n",
       "      <th>play</th>\n",
       "    </tr>\n",
       "  </thead>\n",
       "  <tbody>\n",
       "    <tr>\n",
       "      <th>4</th>\n",
       "      <td>rainy</td>\n",
       "      <td>mild</td>\n",
       "      <td>high</td>\n",
       "      <td>False</td>\n",
       "      <td>yes</td>\n",
       "    </tr>\n",
       "    <tr>\n",
       "      <th>5</th>\n",
       "      <td>rainy</td>\n",
       "      <td>cool</td>\n",
       "      <td>normal</td>\n",
       "      <td>False</td>\n",
       "      <td>yes</td>\n",
       "    </tr>\n",
       "    <tr>\n",
       "      <th>6</th>\n",
       "      <td>rainy</td>\n",
       "      <td>cool</td>\n",
       "      <td>normal</td>\n",
       "      <td>True</td>\n",
       "      <td>no</td>\n",
       "    </tr>\n",
       "    <tr>\n",
       "      <th>7</th>\n",
       "      <td>rainy</td>\n",
       "      <td>mild</td>\n",
       "      <td>normal</td>\n",
       "      <td>False</td>\n",
       "      <td>yes</td>\n",
       "    </tr>\n",
       "    <tr>\n",
       "      <th>8</th>\n",
       "      <td>rainy</td>\n",
       "      <td>mild</td>\n",
       "      <td>high</td>\n",
       "      <td>True</td>\n",
       "      <td>no</td>\n",
       "    </tr>\n",
       "    <tr>\n",
       "      <th>9</th>\n",
       "      <td>sunny</td>\n",
       "      <td>hot</td>\n",
       "      <td>high</td>\n",
       "      <td>False</td>\n",
       "      <td>no</td>\n",
       "    </tr>\n",
       "    <tr>\n",
       "      <th>10</th>\n",
       "      <td>sunny</td>\n",
       "      <td>hot</td>\n",
       "      <td>high</td>\n",
       "      <td>True</td>\n",
       "      <td>no</td>\n",
       "    </tr>\n",
       "    <tr>\n",
       "      <th>11</th>\n",
       "      <td>sunny</td>\n",
       "      <td>mild</td>\n",
       "      <td>high</td>\n",
       "      <td>False</td>\n",
       "      <td>no</td>\n",
       "    </tr>\n",
       "    <tr>\n",
       "      <th>12</th>\n",
       "      <td>sunny</td>\n",
       "      <td>cool</td>\n",
       "      <td>normal</td>\n",
       "      <td>False</td>\n",
       "      <td>yes</td>\n",
       "    </tr>\n",
       "    <tr>\n",
       "      <th>13</th>\n",
       "      <td>sunny</td>\n",
       "      <td>mild</td>\n",
       "      <td>normal</td>\n",
       "      <td>True</td>\n",
       "      <td>yes</td>\n",
       "    </tr>\n",
       "  </tbody>\n",
       "</table>\n",
       "</div>"
      ],
      "text/plain": [
       "   outlook temper humidity  windy play\n",
       "4    rainy   mild     high  False  yes\n",
       "5    rainy   cool   normal  False  yes\n",
       "6    rainy   cool   normal   True   no\n",
       "7    rainy   mild   normal  False  yes\n",
       "8    rainy   mild     high   True   no\n",
       "9    sunny    hot     high  False   no\n",
       "10   sunny    hot     high   True   no\n",
       "11   sunny   mild     high  False   no\n",
       "12   sunny   cool   normal  False  yes\n",
       "13   sunny   mild   normal   True  yes"
      ]
     },
     "execution_count": 70,
     "metadata": {},
     "output_type": "execute_result"
    }
   ],
   "source": [
    "new_player"
   ]
  },
  {
   "cell_type": "code",
   "execution_count": 91,
   "id": "6d00b3bc-fced-421c-9983-7908bd2fd2e7",
   "metadata": {
    "tags": []
   },
   "outputs": [
    {
     "data": {
      "text/plain": [
       "0.009810788670385984"
      ]
     },
     "execution_count": 91,
     "metadata": {},
     "output_type": "execute_result"
    }
   ],
   "source": [
    "total_entropy(new_player.play)-\\\n",
    "(total_entropy(new_player.loc[new_player.outlook == 'rainy','play']) +\\\n",
    "total_entropy(new_player.loc[new_player.outlook == 'sunny','play']))/2"
   ]
  },
  {
   "cell_type": "code",
   "execution_count": 92,
   "id": "cc175b83-82a3-49fd-9f59-cdc5dac580d6",
   "metadata": {
    "tags": []
   },
   "outputs": [
    {
     "data": {
      "text/plain": [
       "0.009810788670385984"
      ]
     },
     "execution_count": 92,
     "metadata": {},
     "output_type": "execute_result"
    }
   ],
   "source": [
    "total_entropy(new_player.play)-\\\n",
    "(total_entropy(new_player.loc[new_player.temper == 'cool','play']) +\\\n",
    "total_entropy(new_player.loc[new_player.temper == 'mild','play']) )/2"
   ]
  },
  {
   "cell_type": "code",
   "execution_count": 93,
   "id": "c4a919f2-077f-4455-adb9-c4479e51e947",
   "metadata": {
    "tags": []
   },
   "outputs": [
    {
     "data": {
      "text/plain": [
       "0.13432203845403912"
      ]
     },
     "execution_count": 93,
     "metadata": {},
     "output_type": "execute_result"
    }
   ],
   "source": [
    "total_entropy(new_player.play)-\\\n",
    "(total_entropy(new_player.loc[new_player.humidity == 'high','play']) +\\\n",
    "total_entropy(new_player.loc[new_player.humidity == 'normal','play']) )/2"
   ]
  },
  {
   "cell_type": "code",
   "execution_count": 94,
   "id": "440d154b-d3ef-490d-afbc-a835bb569a5c",
   "metadata": {
    "tags": []
   },
   "outputs": [
    {
     "data": {
      "text/plain": [
       "0.13432203845403912"
      ]
     },
     "execution_count": 94,
     "metadata": {},
     "output_type": "execute_result"
    }
   ],
   "source": [
    "total_entropy(new_player.play)-\\\n",
    "(total_entropy(new_player.loc[new_player.windy == True,'play']) +\\\n",
    "total_entropy(new_player.loc[new_player.windy == False,'play']) )/2"
   ]
  },
  {
   "cell_type": "code",
   "execution_count": 89,
   "id": "20272523-bedc-43f4-8c5c-4c74b6351a80",
   "metadata": {
    "tags": []
   },
   "outputs": [],
   "source": [
    "new_player = new_player.loc[new_player.temper != 'hot',:]"
   ]
  },
  {
   "cell_type": "code",
   "execution_count": 96,
   "id": "b72d043f-c573-4b0b-91d5-6946f63aa130",
   "metadata": {
    "tags": []
   },
   "outputs": [
    {
     "data": {
      "text/plain": [
       "5     yes\n",
       "6      no\n",
       "7     yes\n",
       "12    yes\n",
       "13    yes\n",
       "Name: play, dtype: object"
      ]
     },
     "execution_count": 96,
     "metadata": {},
     "output_type": "execute_result"
    }
   ],
   "source": [
    "new_player.loc[new_player.humidity == 'normal',\"play\"]"
   ]
  },
  {
   "cell_type": "code",
   "execution_count": 98,
   "id": "48844296-82f9-41f6-84d3-1af14cb0d27f",
   "metadata": {
    "tags": []
   },
   "outputs": [
    {
     "data": {
      "text/plain": [
       "4     yes\n",
       "5     yes\n",
       "7     yes\n",
       "11     no\n",
       "12    yes\n",
       "Name: play, dtype: object"
      ]
     },
     "execution_count": 98,
     "metadata": {},
     "output_type": "execute_result"
    }
   ],
   "source": [
    "new_player.loc[new_player.windy == False,\"play\"]"
   ]
  },
  {
   "cell_type": "code",
   "execution_count": null,
   "id": "c28f5a50-b4e0-4d49-a592-74c6e20cf2d6",
   "metadata": {},
   "outputs": [],
   "source": []
  }
 ],
 "metadata": {
  "kernelspec": {
   "display_name": "allomyrina",
   "language": "python",
   "name": "allomyrina"
  },
  "language_info": {
   "codemirror_mode": {
    "name": "ipython",
    "version": 3
   },
   "file_extension": ".py",
   "mimetype": "text/x-python",
   "name": "python",
   "nbconvert_exporter": "python",
   "pygments_lexer": "ipython3",
   "version": "3.12.4"
  }
 },
 "nbformat": 4,
 "nbformat_minor": 5
}
